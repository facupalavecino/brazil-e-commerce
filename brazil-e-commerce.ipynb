{
 "cells": [
  {
   "cell_type": "code",
   "execution_count": 2,
   "metadata": {
    "collapsed": true,
    "pycharm": {
     "is_executing": false
    }
   },
   "outputs": [
    {
     "name": "stdout",
     "text": [
      "                                  product_category_name  product_name_lenght  \\\nproduct_id                                                                     \n1e9e8ef04dbcff4541ed26657ea517e5             perfumaria                 40.0   \n3aa071139cb16b67ca9e5dea641aaa2f                  artes                 44.0   \n96bd76ec8810374ed1b65e291975717f          esporte_lazer                 46.0   \ncef67bcfe19066a932b7673e239eb23d                  bebes                 27.0   \n9dc1a7de274444849c219cff195d0b71  utilidades_domesticas                 37.0   \n\n                                  product_description_lenght  \\\nproduct_id                                                     \n1e9e8ef04dbcff4541ed26657ea517e5                       287.0   \n3aa071139cb16b67ca9e5dea641aaa2f                       276.0   \n96bd76ec8810374ed1b65e291975717f                       250.0   \ncef67bcfe19066a932b7673e239eb23d                       261.0   \n9dc1a7de274444849c219cff195d0b71                       402.0   \n\n                                  product_photos_qty  product_weight_g  \\\nproduct_id                                                               \n1e9e8ef04dbcff4541ed26657ea517e5                 1.0             225.0   \n3aa071139cb16b67ca9e5dea641aaa2f                 1.0            1000.0   \n96bd76ec8810374ed1b65e291975717f                 1.0             154.0   \ncef67bcfe19066a932b7673e239eb23d                 1.0             371.0   \n9dc1a7de274444849c219cff195d0b71                 4.0             625.0   \n\n                                  product_length_cm  product_height_cm  \\\nproduct_id                                                               \n1e9e8ef04dbcff4541ed26657ea517e5               16.0               10.0   \n3aa071139cb16b67ca9e5dea641aaa2f               30.0               18.0   \n96bd76ec8810374ed1b65e291975717f               18.0                9.0   \ncef67bcfe19066a932b7673e239eb23d               26.0                4.0   \n9dc1a7de274444849c219cff195d0b71               20.0               17.0   \n\n                                  product_width_cm  \nproduct_id                                          \n1e9e8ef04dbcff4541ed26657ea517e5              14.0  \n3aa071139cb16b67ca9e5dea641aaa2f              20.0  \n96bd76ec8810374ed1b65e291975717f              15.0  \ncef67bcfe19066a932b7673e239eb23d              26.0  \n9dc1a7de274444849c219cff195d0b71              13.0  \n"
     ],
     "output_type": "stream"
    }
   ],
   "source": [
    "import pandas as pd\n",
    "import matplotlib.pyplot as plt\n",
    "\n",
    "# Get a DataFrame from a CSV file\n",
    "products = pd.read_csv('datasets/olist_products_dataset.csv', index_col=0)"
   ]
  },
  {
   "cell_type": "code",
   "execution_count": 5,
   "outputs": [
    {
     "name": "stdout",
     "text": [
      "      name   last_name  age\n0  Facundo  Palavecino   24\n1     Juan    Gonzalez   23\n2  Nicolas       Perez   25\n\n\n      name   last_name  age\n0  Facundo  Palavecino   24\n1     Juan    Gonzalez   23\n2  Nicolas       Perez   25\n"
     ],
     "output_type": "stream"
    }
   ],
   "source": [
    "'''\n",
    "********** CREATING A DATAFRAME **********\n",
    "There are 2 ways of creating a DataFrame:\n",
    "- Dict of lists: Keys represent columns and values (lists) represents values or rows\n",
    "- List of Dicts: Each list represents a row, each dictionary populates the columns. Of course, all dict should have the same structure \n",
    "'''\n",
    "\n",
    "dict_of_lists = {\n",
    "    \"name\": ['Facundo', 'Juan', 'Nicolas'],\n",
    "    \"last_name\": ['Palavecino', 'Gonzalez', 'Perez'],\n",
    "    \"age\": [24, 23, 25]\n",
    "}\n",
    "\n",
    "df1 = pd.DataFrame(dict_of_lists)\n",
    "print(df1)\n",
    "print('\\n')\n",
    "list_of_dicts = [\n",
    "    {'name': 'Facundo', 'last_name': 'Palavecino', 'age': 24},\n",
    "    {'name': 'Juan', 'last_name': 'Gonzalez', 'age': 23},\n",
    "    {'name': 'Nicolas', 'last_name': 'Perez', 'age': 25}\n",
    "]\n",
    "df2 = pd.DataFrame(list_of_dicts)\n",
    "print(df2)"
   ],
   "metadata": {
    "collapsed": false,
    "pycharm": {
     "name": "#%%\n",
     "is_executing": false
    }
   }
  },
  {
   "cell_type": "code",
   "execution_count": null,
   "outputs": [],
   "source": [
    "'''\n",
    "********** Working with CSVs **********\n",
    "Load CSV to DataFrame: pd.read_csv('path/to/csv')\n",
    "Save DataFrame to CSV: pd.to_csv('path/to/csv')\n",
    "'''"
   ],
   "metadata": {
    "collapsed": false,
    "pycharm": {
     "name": "#%%\n"
    }
   }
  }
 ],
 "metadata": {
  "kernelspec": {
   "display_name": "Python 3",
   "language": "python",
   "name": "python3"
  },
  "language_info": {
   "codemirror_mode": {
    "name": "ipython",
    "version": 2
   },
   "file_extension": ".py",
   "mimetype": "text/x-python",
   "name": "python",
   "nbconvert_exporter": "python",
   "pygments_lexer": "ipython2",
   "version": "2.7.6"
  },
  "pycharm": {
   "stem_cell": {
    "cell_type": "raw",
    "source": [],
    "metadata": {
     "collapsed": false
    }
   }
  }
 },
 "nbformat": 4,
 "nbformat_minor": 0
}