{
 "cells": [
  {
   "cell_type": "code",
   "execution_count": 5,
   "metadata": {
    "collapsed": true,
    "pycharm": {
     "is_executing": false
    }
   },
   "outputs": [
    {
     "data": {
      "text/plain": "                                                       customer_id  \\\norder_id                                                             \ne481f51cbdc54678b7cc49136f2d6af7  9ef432eb6251297304e76186b10a928d   \n53cdb2fc8bc7dce0b6741e2150273451  b0830fb4747a6c6d20dea0b8c802d7ef   \n47770eb9100c2d0c44946d9cf07ec65d  41ce2a54c0b03bf3443c3d931a367089   \n949d5b44dbf5de918fe9c16f97b45f8a  f88197465ea7920adcdbec7375364d82   \n\n                                 order_status order_purchase_timestamp  \\\norder_id                                                                 \ne481f51cbdc54678b7cc49136f2d6af7    delivered      2017-10-02 10:56:33   \n53cdb2fc8bc7dce0b6741e2150273451    delivered      2018-07-24 20:41:37   \n47770eb9100c2d0c44946d9cf07ec65d    delivered      2018-08-08 08:38:49   \n949d5b44dbf5de918fe9c16f97b45f8a    delivered      2017-11-18 19:28:06   \n\n                                    order_approved_at  \\\norder_id                                                \ne481f51cbdc54678b7cc49136f2d6af7  2017-10-02 11:07:15   \n53cdb2fc8bc7dce0b6741e2150273451  2018-07-26 03:24:27   \n47770eb9100c2d0c44946d9cf07ec65d  2018-08-08 08:55:23   \n949d5b44dbf5de918fe9c16f97b45f8a  2017-11-18 19:45:59   \n\n                                 order_delivered_carrier_date  \\\norder_id                                                        \ne481f51cbdc54678b7cc49136f2d6af7          2017-10-04 19:55:00   \n53cdb2fc8bc7dce0b6741e2150273451          2018-07-26 14:31:00   \n47770eb9100c2d0c44946d9cf07ec65d          2018-08-08 13:50:00   \n949d5b44dbf5de918fe9c16f97b45f8a          2017-11-22 13:39:59   \n\n                                 order_delivered_customer_date  \\\norder_id                                                         \ne481f51cbdc54678b7cc49136f2d6af7           2017-10-10 21:25:13   \n53cdb2fc8bc7dce0b6741e2150273451           2018-08-07 15:27:45   \n47770eb9100c2d0c44946d9cf07ec65d           2018-08-17 18:06:29   \n949d5b44dbf5de918fe9c16f97b45f8a           2017-12-02 00:28:42   \n\n                                 order_estimated_delivery_date  \norder_id                                                        \ne481f51cbdc54678b7cc49136f2d6af7           2017-10-18 00:00:00  \n53cdb2fc8bc7dce0b6741e2150273451           2018-08-13 00:00:00  \n47770eb9100c2d0c44946d9cf07ec65d           2018-09-04 00:00:00  \n949d5b44dbf5de918fe9c16f97b45f8a           2017-12-15 00:00:00  ",
      "text/html": "<div>\n<style scoped>\n    .dataframe tbody tr th:only-of-type {\n        vertical-align: middle;\n    }\n\n    .dataframe tbody tr th {\n        vertical-align: top;\n    }\n\n    .dataframe thead th {\n        text-align: right;\n    }\n</style>\n<table border=\"1\" class=\"dataframe\">\n  <thead>\n    <tr style=\"text-align: right;\">\n      <th></th>\n      <th>customer_id</th>\n      <th>order_status</th>\n      <th>order_purchase_timestamp</th>\n      <th>order_approved_at</th>\n      <th>order_delivered_carrier_date</th>\n      <th>order_delivered_customer_date</th>\n      <th>order_estimated_delivery_date</th>\n    </tr>\n    <tr>\n      <th>order_id</th>\n      <th></th>\n      <th></th>\n      <th></th>\n      <th></th>\n      <th></th>\n      <th></th>\n      <th></th>\n    </tr>\n  </thead>\n  <tbody>\n    <tr>\n      <th>e481f51cbdc54678b7cc49136f2d6af7</th>\n      <td>9ef432eb6251297304e76186b10a928d</td>\n      <td>delivered</td>\n      <td>2017-10-02 10:56:33</td>\n      <td>2017-10-02 11:07:15</td>\n      <td>2017-10-04 19:55:00</td>\n      <td>2017-10-10 21:25:13</td>\n      <td>2017-10-18 00:00:00</td>\n    </tr>\n    <tr>\n      <th>53cdb2fc8bc7dce0b6741e2150273451</th>\n      <td>b0830fb4747a6c6d20dea0b8c802d7ef</td>\n      <td>delivered</td>\n      <td>2018-07-24 20:41:37</td>\n      <td>2018-07-26 03:24:27</td>\n      <td>2018-07-26 14:31:00</td>\n      <td>2018-08-07 15:27:45</td>\n      <td>2018-08-13 00:00:00</td>\n    </tr>\n    <tr>\n      <th>47770eb9100c2d0c44946d9cf07ec65d</th>\n      <td>41ce2a54c0b03bf3443c3d931a367089</td>\n      <td>delivered</td>\n      <td>2018-08-08 08:38:49</td>\n      <td>2018-08-08 08:55:23</td>\n      <td>2018-08-08 13:50:00</td>\n      <td>2018-08-17 18:06:29</td>\n      <td>2018-09-04 00:00:00</td>\n    </tr>\n    <tr>\n      <th>949d5b44dbf5de918fe9c16f97b45f8a</th>\n      <td>f88197465ea7920adcdbec7375364d82</td>\n      <td>delivered</td>\n      <td>2017-11-18 19:28:06</td>\n      <td>2017-11-18 19:45:59</td>\n      <td>2017-11-22 13:39:59</td>\n      <td>2017-12-02 00:28:42</td>\n      <td>2017-12-15 00:00:00</td>\n    </tr>\n  </tbody>\n</table>\n</div>"
     },
     "metadata": {},
     "output_type": "execute_result",
     "execution_count": 5
    }
   ],
   "source": [
    "import pandas as pd\n",
    "\n",
    "# Get a DataFrame from a CSV file\n",
    "orders = pd.read_csv('datasets/olist_orders_dataset.csv', index_col=0)\n",
    "orders.head(4)"
   ]
  },
  {
   "cell_type": "code",
   "execution_count": 8,
   "outputs": [
    {
     "data": {
      "text/plain": "                           order_id                       customer_id  \\\n0  e481f51cbdc54678b7cc49136f2d6af7  9ef432eb6251297304e76186b10a928d   \n1  53cdb2fc8bc7dce0b6741e2150273451  b0830fb4747a6c6d20dea0b8c802d7ef   \n2  47770eb9100c2d0c44946d9cf07ec65d  41ce2a54c0b03bf3443c3d931a367089   \n3  949d5b44dbf5de918fe9c16f97b45f8a  f88197465ea7920adcdbec7375364d82   \n4  ad21c59c0840e6cb83a9ceb5573f8159  8ab97904e6daea8866dbdbc4fb7aad2c   \n\n  order_status order_purchase_timestamp    order_approved_at  \\\n0    delivered      2017-10-02 10:56:33  2017-10-02 11:07:15   \n1    delivered      2018-07-24 20:41:37  2018-07-26 03:24:27   \n2    delivered      2018-08-08 08:38:49  2018-08-08 08:55:23   \n3    delivered      2017-11-18 19:28:06  2017-11-18 19:45:59   \n4    delivered      2018-02-13 21:18:39  2018-02-13 22:20:29   \n\n  order_delivered_carrier_date order_delivered_customer_date  \\\n0          2017-10-04 19:55:00           2017-10-10 21:25:13   \n1          2018-07-26 14:31:00           2018-08-07 15:27:45   \n2          2018-08-08 13:50:00           2018-08-17 18:06:29   \n3          2017-11-22 13:39:59           2017-12-02 00:28:42   \n4          2018-02-14 19:46:34           2018-02-16 18:17:02   \n\n  order_estimated_delivery_date  order_item_id  \\\n0           2017-10-18 00:00:00              1   \n1           2018-08-13 00:00:00              1   \n2           2018-09-04 00:00:00              1   \n3           2017-12-15 00:00:00              1   \n4           2018-02-26 00:00:00              1   \n\n                         product_id                         seller_id  \\\n0  87285b34884572647811a353c7ac498a  3504c0cb71d7fa48d967e0e4c94d59d9   \n1  595fac2a385ac33a80bd5114aec74eb8  289cdb325fb7e7f891c38608bf9e0962   \n2  aa4383b373c6aca5d8797843e5594415  4869f7a5dfa277a7dca6462dcf3b52b2   \n3  d0b61bfb1de832b15ba9d266ca96e5b0  66922902710d126a0e7d26b0e3805106   \n4  65266b2da20d04dbe00c5c2d3bb7859e  2c9e548be18521d1c43cde1c582c6de8   \n\n   shipping_limit_date   price  freight_value  review_score  \\\n0  2017-10-06 11:07:15   29.99           8.72             4   \n1  2018-07-30 03:24:27  118.70          22.76             4   \n2  2018-08-13 08:55:23  159.90          19.22             5   \n3  2017-11-23 19:45:59   45.00          27.20             5   \n4  2018-02-19 20:31:37   19.90           8.72             5   \n\n  review_comment_title                             review_comment_message  \\\n0                  NaN  Não testei o produto ainda, mas ele veio corre...   \n1     Muito boa a loja                               Muito bom o produto.   \n2                  NaN                                                NaN   \n3                  NaN  O produto foi exatamente o que eu esperava e e...   \n4                  NaN                                                NaN   \n\n  review_creation_date review_answer_timestamp  \n0  2017-10-11 00:00:00     2017-10-12 03:43:48  \n1  2018-08-08 00:00:00     2018-08-08 18:37:50  \n2  2018-08-18 00:00:00     2018-08-22 19:07:58  \n3  2017-12-03 00:00:00     2017-12-05 19:21:58  \n4  2018-02-17 00:00:00     2018-02-18 13:02:51  ",
      "text/html": "<div>\n<style scoped>\n    .dataframe tbody tr th:only-of-type {\n        vertical-align: middle;\n    }\n\n    .dataframe tbody tr th {\n        vertical-align: top;\n    }\n\n    .dataframe thead th {\n        text-align: right;\n    }\n</style>\n<table border=\"1\" class=\"dataframe\">\n  <thead>\n    <tr style=\"text-align: right;\">\n      <th></th>\n      <th>order_id</th>\n      <th>customer_id</th>\n      <th>order_status</th>\n      <th>order_purchase_timestamp</th>\n      <th>order_approved_at</th>\n      <th>order_delivered_carrier_date</th>\n      <th>order_delivered_customer_date</th>\n      <th>order_estimated_delivery_date</th>\n      <th>order_item_id</th>\n      <th>product_id</th>\n      <th>seller_id</th>\n      <th>shipping_limit_date</th>\n      <th>price</th>\n      <th>freight_value</th>\n      <th>review_score</th>\n      <th>review_comment_title</th>\n      <th>review_comment_message</th>\n      <th>review_creation_date</th>\n      <th>review_answer_timestamp</th>\n    </tr>\n  </thead>\n  <tbody>\n    <tr>\n      <th>0</th>\n      <td>e481f51cbdc54678b7cc49136f2d6af7</td>\n      <td>9ef432eb6251297304e76186b10a928d</td>\n      <td>delivered</td>\n      <td>2017-10-02 10:56:33</td>\n      <td>2017-10-02 11:07:15</td>\n      <td>2017-10-04 19:55:00</td>\n      <td>2017-10-10 21:25:13</td>\n      <td>2017-10-18 00:00:00</td>\n      <td>1</td>\n      <td>87285b34884572647811a353c7ac498a</td>\n      <td>3504c0cb71d7fa48d967e0e4c94d59d9</td>\n      <td>2017-10-06 11:07:15</td>\n      <td>29.99</td>\n      <td>8.72</td>\n      <td>4</td>\n      <td>NaN</td>\n      <td>Não testei o produto ainda, mas ele veio corre...</td>\n      <td>2017-10-11 00:00:00</td>\n      <td>2017-10-12 03:43:48</td>\n    </tr>\n    <tr>\n      <th>1</th>\n      <td>53cdb2fc8bc7dce0b6741e2150273451</td>\n      <td>b0830fb4747a6c6d20dea0b8c802d7ef</td>\n      <td>delivered</td>\n      <td>2018-07-24 20:41:37</td>\n      <td>2018-07-26 03:24:27</td>\n      <td>2018-07-26 14:31:00</td>\n      <td>2018-08-07 15:27:45</td>\n      <td>2018-08-13 00:00:00</td>\n      <td>1</td>\n      <td>595fac2a385ac33a80bd5114aec74eb8</td>\n      <td>289cdb325fb7e7f891c38608bf9e0962</td>\n      <td>2018-07-30 03:24:27</td>\n      <td>118.70</td>\n      <td>22.76</td>\n      <td>4</td>\n      <td>Muito boa a loja</td>\n      <td>Muito bom o produto.</td>\n      <td>2018-08-08 00:00:00</td>\n      <td>2018-08-08 18:37:50</td>\n    </tr>\n    <tr>\n      <th>2</th>\n      <td>47770eb9100c2d0c44946d9cf07ec65d</td>\n      <td>41ce2a54c0b03bf3443c3d931a367089</td>\n      <td>delivered</td>\n      <td>2018-08-08 08:38:49</td>\n      <td>2018-08-08 08:55:23</td>\n      <td>2018-08-08 13:50:00</td>\n      <td>2018-08-17 18:06:29</td>\n      <td>2018-09-04 00:00:00</td>\n      <td>1</td>\n      <td>aa4383b373c6aca5d8797843e5594415</td>\n      <td>4869f7a5dfa277a7dca6462dcf3b52b2</td>\n      <td>2018-08-13 08:55:23</td>\n      <td>159.90</td>\n      <td>19.22</td>\n      <td>5</td>\n      <td>NaN</td>\n      <td>NaN</td>\n      <td>2018-08-18 00:00:00</td>\n      <td>2018-08-22 19:07:58</td>\n    </tr>\n    <tr>\n      <th>3</th>\n      <td>949d5b44dbf5de918fe9c16f97b45f8a</td>\n      <td>f88197465ea7920adcdbec7375364d82</td>\n      <td>delivered</td>\n      <td>2017-11-18 19:28:06</td>\n      <td>2017-11-18 19:45:59</td>\n      <td>2017-11-22 13:39:59</td>\n      <td>2017-12-02 00:28:42</td>\n      <td>2017-12-15 00:00:00</td>\n      <td>1</td>\n      <td>d0b61bfb1de832b15ba9d266ca96e5b0</td>\n      <td>66922902710d126a0e7d26b0e3805106</td>\n      <td>2017-11-23 19:45:59</td>\n      <td>45.00</td>\n      <td>27.20</td>\n      <td>5</td>\n      <td>NaN</td>\n      <td>O produto foi exatamente o que eu esperava e e...</td>\n      <td>2017-12-03 00:00:00</td>\n      <td>2017-12-05 19:21:58</td>\n    </tr>\n    <tr>\n      <th>4</th>\n      <td>ad21c59c0840e6cb83a9ceb5573f8159</td>\n      <td>8ab97904e6daea8866dbdbc4fb7aad2c</td>\n      <td>delivered</td>\n      <td>2018-02-13 21:18:39</td>\n      <td>2018-02-13 22:20:29</td>\n      <td>2018-02-14 19:46:34</td>\n      <td>2018-02-16 18:17:02</td>\n      <td>2018-02-26 00:00:00</td>\n      <td>1</td>\n      <td>65266b2da20d04dbe00c5c2d3bb7859e</td>\n      <td>2c9e548be18521d1c43cde1c582c6de8</td>\n      <td>2018-02-19 20:31:37</td>\n      <td>19.90</td>\n      <td>8.72</td>\n      <td>5</td>\n      <td>NaN</td>\n      <td>NaN</td>\n      <td>2018-02-17 00:00:00</td>\n      <td>2018-02-18 13:02:51</td>\n    </tr>\n  </tbody>\n</table>\n</div>"
     },
     "metadata": {},
     "output_type": "execute_result",
     "execution_count": 8
    }
   ],
   "source": [
    "order_items = pd.read_csv('datasets/olist_order_items_dataset.csv', index_col=0)\n",
    "order_items.head(5)\n",
    "\n",
    "'''\n",
    "DataFrames can be merged with .merge(), this is an INNER JOIN\n",
    "If both datasets contain 1 column with the same name, pandas will rename those with a suffix:\n",
    "- '_x' for the column in the first dataset\n",
    "- '_y' for the column in the second dataset\n",
    "\n",
    "We can change the default suffixes by passing the 'suffixes' argument to the merge() method:\n",
    "    - df.merge(df2, on='column_to_merge_by', suffixes=tuple('prefix_1', 'prefix_2')\n",
    "\n",
    "'''\n",
    "orders_with_items = orders.merge(order_items, on='order_id')\n",
    "orders_with_items.head(5)\n",
    "\n",
    "''' \n",
    "We can merge multiple DataFrames by concatenating the merge method.\n",
    "\n",
    "We can specify more than 1 column to merge by:\n",
    "    - merge(on=['col_1', 'col_2', ... , 'col_N'])\n",
    "    \n",
    "We can change the type of join by passing the 'how' argument to the merge() method\n",
    "    - merge(df2, on=..., how='left') --> Produces a left join\n",
    "'''\n",
    "\n",
    "order_reviews = pd.read_csv('datasets/olist_order_reviews_dataset.csv', index_col=0)\n",
    "\n",
    "order_items_reviews = orders_with_items.merge(order_reviews, on='order_id', how='left')\n",
    "\n",
    "order_items_reviews.head(5)\n",
    "\n",
    "'''\n",
    "We also have RIGHT JOIN and OUTER JOIN.\n",
    "\n",
    "Outer: just pass how='outer'\n",
    "\n",
    "Right: pass how='right', left_on='column_name', right_on='column_name'\n",
    "    Here, left_on determines which column from the LEFT dataframe will be used to merge by.\n",
    "    Right_on does the same for the RIGHT dataframe\n",
    "'''\n"
   ],
   "metadata": {
    "collapsed": false,
    "pycharm": {
     "name": "#%%\n",
     "is_executing": false
    }
   }
  }
 ],
 "metadata": {
  "kernelspec": {
   "display_name": "Python 3",
   "language": "python",
   "name": "python3"
  },
  "language_info": {
   "codemirror_mode": {
    "name": "ipython",
    "version": 2
   },
   "file_extension": ".py",
   "mimetype": "text/x-python",
   "name": "python",
   "nbconvert_exporter": "python",
   "pygments_lexer": "ipython2",
   "version": "2.7.6"
  },
  "pycharm": {
   "stem_cell": {
    "cell_type": "raw",
    "source": [],
    "metadata": {
     "collapsed": false
    }
   }
  }
 },
 "nbformat": 4,
 "nbformat_minor": 0
}